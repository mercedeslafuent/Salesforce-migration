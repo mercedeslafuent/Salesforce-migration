{
 "cells": [
  {
   "cell_type": "code",
   "execution_count": 2,
   "id": "ca1654e3",
   "metadata": {},
   "outputs": [],
   "source": [
    "from selenium import *\n",
    "from selenium.webdriver.support.ui import WebDriverWait\n",
    "from selenium.webdriver.support import expected_conditions\n",
    "#from selenium.webdriver.common.by import By\n",
    "#from selenium.webdriver.support.ui import Select\n",
    "import pandas as pd\n",
    "import time"
   ]
  },
  {
   "cell_type": "code",
   "execution_count": 248,
   "id": "86142755",
   "metadata": {
    "scrolled": true
   },
   "outputs": [
    {
     "name": "stderr",
     "output_type": "stream",
     "text": [
      "C:\\Users\\Mercedes\\AppData\\Local\\Temp\\ipykernel_7612\\1602973592.py:1: DeprecationWarning: executable_path has been deprecated, please pass in a Service object\n",
      "  driver = webdriver.Chrome('webdriver//chromedriver.exe')\n"
     ]
    }
   ],
   "source": [
    "driver = webdriver.Chrome('webdriver//chromedriver.exe')"
   ]
  },
  {
   "cell_type": "code",
   "execution_count": 1,
   "id": "a37470c5",
   "metadata": {},
   "outputs": [
    {
     "ename": "NameError",
     "evalue": "name 'driver' is not defined",
     "output_type": "error",
     "traceback": [
      "\u001b[1;31m---------------------------------------------------------------------------\u001b[0m",
      "\u001b[1;31mNameError\u001b[0m                                 Traceback (most recent call last)",
      "Input \u001b[1;32mIn [1]\u001b[0m, in \u001b[0;36m<cell line: 2>\u001b[1;34m()\u001b[0m\n\u001b[0;32m      1\u001b[0m \u001b[38;5;66;03m#open page jira\u001b[39;00m\n\u001b[1;32m----> 2\u001b[0m \u001b[43mdriver\u001b[49m\u001b[38;5;241m.\u001b[39mget(\u001b[38;5;124m'\u001b[39m\u001b[38;5;124mhttps://id.atlassian.com/login?continue=https\u001b[39m\u001b[38;5;124m%\u001b[39m\u001b[38;5;124m3A\u001b[39m\u001b[38;5;132;01m%2F\u001b[39;00m\u001b[38;5;132;01m%2F\u001b[39;00m\u001b[38;5;124mid.atlassian.com\u001b[39m\u001b[38;5;132;01m%2F\u001b[39;00m\u001b[38;5;124mjoin\u001b[39m\u001b[38;5;132;01m%2F\u001b[39;00m\u001b[38;5;124muser-access\u001b[39m\u001b[38;5;132;01m%3F\u001b[39;00m\u001b[38;5;124mresource\u001b[39m\u001b[38;5;124m%\u001b[39m\u001b[38;5;124m3Dari\u001b[39m\u001b[38;5;124m%\u001b[39m\u001b[38;5;124m253Acloud\u001b[39m\u001b[38;5;124m%\u001b[39m\u001b[38;5;124m253Ajira\u001b[39m\u001b[38;5;124m%\u001b[39m\u001b[38;5;124m253A\u001b[39m\u001b[38;5;124m%\u001b[39m\u001b[38;5;124m253Asite\u001b[39m\u001b[38;5;132;01m%252F\u001b[39;00m\u001b[38;5;124m45a1ae92-9f25-4dd1-a628-96d47024ec73\u001b[39m\u001b[38;5;132;01m%26c\u001b[39;00m\u001b[38;5;124montinue\u001b[39m\u001b[38;5;124m%\u001b[39m\u001b[38;5;124m3Dhttps\u001b[39m\u001b[38;5;124m%\u001b[39m\u001b[38;5;124m253A\u001b[39m\u001b[38;5;132;01m%252F\u001b[39;00m\u001b[38;5;132;01m%252F\u001b[39;00m\u001b[38;5;124mnice-ce-cxone-sandbox.atlassian.net&application=jira\u001b[39m\u001b[38;5;124m'\u001b[39m)\n\u001b[0;32m      3\u001b[0m driver\u001b[38;5;241m.\u001b[39mfind_element(\u001b[38;5;124m\"\u001b[39m\u001b[38;5;124mxpath\u001b[39m\u001b[38;5;124m\"\u001b[39m, \u001b[38;5;124m'\u001b[39m\u001b[38;5;124m/html/body/div[1]/div/div/div/div[2]/div[2]/div/section/div[2]/form/div[1]/div[1]/div/div/div/input\u001b[39m\u001b[38;5;124m'\u001b[39m)\u001b[38;5;241m.\u001b[39msend_keys(\u001b[38;5;124m\"\u001b[39m\u001b[38;5;124mmercedes.lafuente@niceincontact.com\u001b[39m\u001b[38;5;124m\"\u001b[39m)\n\u001b[0;32m      4\u001b[0m driver\u001b[38;5;241m.\u001b[39mfind_element(\u001b[38;5;124m\"\u001b[39m\u001b[38;5;124mxpath\u001b[39m\u001b[38;5;124m\"\u001b[39m, \u001b[38;5;124m'\u001b[39m\u001b[38;5;124m/html/body/div[1]/div/div/div/div[2]/div[2]/div/section/div[2]/form/button\u001b[39m\u001b[38;5;124m'\u001b[39m)\u001b[38;5;241m.\u001b[39mclick()\n",
      "\u001b[1;31mNameError\u001b[0m: name 'driver' is not defined"
     ]
    }
   ],
   "source": [
    "#open page jira\n",
    "driver.get('https://id.atlassian.com/login?continue=https%3A%2F%2Fid.atlassian.com%2Fjoin%2Fuser-access%3Fresource%3Dari%253Acloud%253Ajira%253A%253Asite%252F45a1ae92-9f25-4dd1-a628-96d47024ec73%26continue%3Dhttps%253A%252F%252Fnice-ce-cxone-sandbox.atlassian.net&application=jira')\n",
    "driver.find_element(\"xpath\", '/html/body/div[1]/div/div/div/div[2]/div[2]/div/section/div[2]/form/div[1]/div[1]/div/div/div/input').send_keys(\"mercedes.lafuente@niceincontact.com\")\n",
    "driver.find_element(\"xpath\", '/html/body/div[1]/div/div/div/div[2]/div[2]/div/section/div[2]/form/button').click()"
   ]
  },
  {
   "cell_type": "code",
   "execution_count": 250,
   "id": "baf7d9e1",
   "metadata": {},
   "outputs": [],
   "source": [
    "#log in\n",
    "driver.find_element(\"xpath\",'/html/body/div/form[1]/div/div/div[2]/div[1]/div/div/div/div/div[1]/div[3]/div/div/div/div[2]/div[2]/div/input[1]').send_keys(\"mercedes.lafuente@niceincontact.com\")\n",
    "driver.find_element(\"xpath\",'/html/body/div/form[1]/div/div/div[2]/div[1]/div/div/div/div/div[1]/div[3]/div/div/div/div[4]/div/div/div/div/input').click()"
   ]
  },
  {
   "cell_type": "raw",
   "id": "c1565fa4",
   "metadata": {},
   "source": [
    "#Hacer la autenticación con la cuenta manualmente\n",
    "#Llenar los campos de usuario y contrasena\n",
    "#Comprobar la identidad"
   ]
  },
  {
   "cell_type": "code",
   "execution_count": 278,
   "id": "8bf91c1d",
   "metadata": {},
   "outputs": [],
   "source": [
    "#Go to page bindings\n",
    "driver.get('https://nice-ce-cxone-sandbox.atlassian.net/plugins/servlet/ac/com.servicerocket.jira.salesforce/bindings?s=com.servicerocket.jira.salesforce__bindings')"
   ]
  },
  {
   "cell_type": "code",
   "execution_count": 279,
   "id": "09521cfa",
   "metadata": {},
   "outputs": [],
   "source": [
    "#add binding but first swith to frame\n",
    "driver.switch_to.frame(driver.find_element(By.XPATH, '/html/body/div[1]/div[1]/div[2]/div[3]/div[2]/div/div/iframe'))"
   ]
  },
  {
   "cell_type": "code",
   "execution_count": 253,
   "id": "abedc307",
   "metadata": {},
   "outputs": [],
   "source": [
    "#WebDriver Wait is optional\n",
    "#WebDriverWait(driver, 20).until(expected_conditions.element_to_be_clickable(driver.find_element(By.XPATH, '/html/body/div[1]/section/div[1]/div/div[2]/div/button'))).click();\n",
    "driver.find_element(By.XPATH, '/html/body/div[1]/section/div[1]/div/div[2]/div/button').click();\n",
    "#write and select the project\n",
    "driver.find_element(By.XPATH, '/html/body/section/div/div/form/div[1]/div[1]/a').click()\n",
    "driver.find_element(By.XPATH, '/html/body/div[6]/div/input').send_keys(\"CX_DevOPS_SSP\")\n",
    "driver.find_element(By.XPATH, '//*[@id=\"select2-drop\"]/ul/li/div').click()\n",
    "#select the connection\n",
    "driver.find_element(By.XPATH,'/html/body/section/div/div/form/div[2]/div/a').click()\n",
    "driver.find_element(By.XPATH, '/html/body/div[7]/ul/li/div').click()\n",
    "#click to add the project\n",
    "driver.find_element(By.XPATH,'/html/body/section/div/footer/div[1]/button[1]').click()\n",
    "#Delay 3 seconds\n",
    "time.sleep(2)\n",
    "#click to cancel\n",
    "driver.find_element(By.XPATH,'/html/body/section/div/footer/div[1]/button[2]').click()"
   ]
  },
  {
   "cell_type": "code",
   "execution_count": 280,
   "id": "b522063f",
   "metadata": {},
   "outputs": [],
   "source": [
    "#Test of Mapping\n",
    "driver.find_element(By.ID,'sf-binding-table-28054-operation-configure-mapping').click()"
   ]
  },
  {
   "cell_type": "code",
   "execution_count": 281,
   "id": "cd13f535",
   "metadata": {},
   "outputs": [],
   "source": [
    "#Again we have to swith to frame because it's a new page\n",
    "driver.switch_to.frame(driver.find_element(By.XPATH, '/html/body/div[1]/div[1]/div[2]/div[3]/div[2]/div/div/iframe'))\n"
   ]
  },
  {
   "cell_type": "code",
   "execution_count": 285,
   "id": "5a56dd96",
   "metadata": {},
   "outputs": [],
   "source": [
    "#upload json file\n",
    "button = driver.find_element(By.XPATH,\"//input[@type='file']\")\n",
    "button.send_keys(\"D://FileJSON/mapping.json\")\n",
    "#driver.find_element(By.ID,'sf-mapping-import-button').send_keys(\"D://FileJSON/mapping.json\")\n"
   ]
  },
  {
   "cell_type": "code",
   "execution_count": 275,
   "id": "25cf5d30",
   "metadata": {},
   "outputs": [],
   "source": [
    "#return to the main page of bindings\n",
    "driver.find_element(By.XPATH,'//*[@id=\"content\"]/div[1]/div/div[1]/div/a').click()\n"
   ]
  },
  {
   "cell_type": "code",
   "execution_count": 164,
   "id": "f5cb3b79",
   "metadata": {},
   "outputs": [],
   "source": [
    "#Read excel with the projects\n",
    "df = pd.read_csv('example_list.csv')"
   ]
  },
  {
   "cell_type": "code",
   "execution_count": null,
   "id": "b20ed96c",
   "metadata": {},
   "outputs": [],
   "source": [
    "#Add all the projects of the list\n",
    "for row, datos in df.iterrows():\n",
    "    nameProjects = datos[\"Projects\"]\n",
    "    time.sleep(3)\n",
    "    driver.switch_to.frame(driver.find_element(By.XPATH, '/html/body/div[1]/div[1]/div[2]/div[3]/div[2]/div/div/iframe'))\n",
    "    driver.find_element(By.XPATH, '/html/body/div[1]/section/div[1]/div/div[2]/div/button').click()\n",
    "    #write and select the project\n",
    "    driver.find_element(By.XPATH, '/html/body/section/div/div/form/div[1]/div[1]/a').click()\n",
    "    driver.find_element(By.XPATH, '/html/body/div[6]/div/input').send_keys(nameProjects)\n",
    "    driver.find_element(By.XPATH, '//*[@id=\"select2-drop\"]/ul/li/div').click()\n",
    "    #select the connection\n",
    "    driver.find_element(By.XPATH,'/html/body/section/div/div/form/div[2]/div/a').click()\n",
    "    driver.find_element(By.XPATH, '/html/body/div[7]/ul/li/div').click()\n",
    "    #click to add the project\n",
    "    driver.find_element(By.XPATH,'/html/body/section/div/footer/div[1]/button[1]').click()\n",
    "    #Delay 3 seconds\n",
    "    time.sleep(2)\n",
    "    #click to cancel\n",
    "    driver.find_element(By.XPATH,'/html/body/section/div/footer/div[1]/button[2]').click()\n",
    "    \n",
    "    count = 28038 + 1\n",
    "    WebDriverWait(driver, 20).until(expected_conditions.element_to_be_clickable() )    driver.find_element(By.ID,'sf-binding-table-{}-operation-configure-mapping'.format(count)).click()\n",
    "    driver.find_element(By.XPATH,'//*[@id=\"content\"]/div[1]/div/div[1]/div/a').click()"
   ]
  }
 ],
 "metadata": {
  "kernelspec": {
   "display_name": "Python 3 (ipykernel)",
   "language": "python",
   "name": "python3"
  },
  "language_info": {
   "codemirror_mode": {
    "name": "ipython",
    "version": 3
   },
   "file_extension": ".py",
   "mimetype": "text/x-python",
   "name": "python",
   "nbconvert_exporter": "python",
   "pygments_lexer": "ipython3",
   "version": "3.9.12"
  }
 },
 "nbformat": 4,
 "nbformat_minor": 5
}
