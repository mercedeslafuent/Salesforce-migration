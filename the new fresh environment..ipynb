{
 "cells": [
  {
   "cell_type": "code",
   "execution_count": 104,
   "id": "7760d20f",
   "metadata": {},
   "outputs": [],
   "source": [
    "from selenium import *\n",
    "from selenium.webdriver.support.ui import WebDriverWait\n",
    "from selenium.webdriver.support import expected_conditions\n",
    "from selenium.webdriver.common.by import By\n",
    "import pandas as pd\n",
    "import time"
   ]
  },
  {
   "cell_type": "code",
   "execution_count": 105,
   "id": "1d6f7fe0",
   "metadata": {},
   "outputs": [
    {
     "name": "stderr",
     "output_type": "stream",
     "text": [
      "C:\\Users\\Mercedes\\AppData\\Local\\Temp\\ipykernel_2468\\1842314104.py:2: DeprecationWarning: executable_path has been deprecated, please pass in a Service object\n",
      "  driver = webdriver.Chrome('webdriver//chromedriver.exe')\n"
     ]
    }
   ],
   "source": [
    "#Open chrome automated\n",
    "driver = webdriver.Chrome('webdriver//chromedriver.exe')"
   ]
  },
  {
   "cell_type": "code",
   "execution_count": 106,
   "id": "ef0e1cb9",
   "metadata": {},
   "outputs": [],
   "source": [
    "#Open page jira\n",
    "jira_page = 'https://id.atlassian.com/login?continue=https%3A%2F%2Fid.atlassian.com%2Fjoin%2Fuser-access%3Fresource%3Dari%253Acloud%253Ajira%253A%253Asite%252Fd9eddf26-9f37-4bb5-8e67-734656814ffb%26continue%3Dhttps%253A%252F%252Fnice-ce-cxonetest2.atlassian.net&application=jira'\n",
    "driver.get(jira_page)\n",
    "email = \"mercedes.lafuente@niceincontact.com\"\n",
    "driver.find_element(\"xpath\", '/html/body/div[1]/div/div/div/div[2]/div[2]/div/section/div[2]/form/div[1]/div[1]/div/div/div/input').send_keys(email)\n",
    "driver.find_element(\"xpath\", '/html/body/div[1]/div/div/div/div[2]/div[2]/div/section/div[2]/form/button').click()"
   ]
  },
  {
   "cell_type": "code",
   "execution_count": 107,
   "id": "70c2276d",
   "metadata": {},
   "outputs": [],
   "source": [
    "#Log in\n",
    "driver.find_element(\"xpath\",'/html/body/div/form[1]/div/div/div[2]/div[1]/div/div/div/div/div[1]/div[3]/div/div/div/div[2]/div[2]/div/input[1]').send_keys(email)\n",
    "driver.find_element(\"xpath\",'/html/body/div/form[1]/div/div/div[2]/div[1]/div/div/div/div/div[1]/div[3]/div/div/div/div[4]/div/div/div/div/input').click()"
   ]
  },
  {
   "cell_type": "code",
   "execution_count": 108,
   "id": "e04d1990",
   "metadata": {},
   "outputs": [],
   "source": [
    "#Manual process"
   ]
  },
  {
   "cell_type": "code",
   "execution_count": 177,
   "id": "43a4f378",
   "metadata": {},
   "outputs": [],
   "source": [
    "#Go to page bindings\n",
    "page_bindings = 'https://nice-ce-cxonetest2.atlassian.net/plugins/servlet/ac/com.servicerocket.jira.salesforce/bindings?s=com.servicerocket.jira.salesforce__bindings'\n",
    "driver.get(page_bindings)"
   ]
  },
  {
   "cell_type": "code",
   "execution_count": 178,
   "id": "8071888e",
   "metadata": {},
   "outputs": [],
   "source": [
    "df = pd.read_csv('oficial_list.csv')"
   ]
  },
  {
   "cell_type": "code",
   "execution_count": 179,
   "id": "e3eb4745",
   "metadata": {},
   "outputs": [],
   "source": [
    "#Add all the projects of the list\n",
    "#id for each button mapping\n",
    "count=28636\n",
    "for row, datos in df.iterrows():\n",
    "    nameProjects = datos[\"Projects\"]\n",
    "    #Swith to frame in order to get access\n",
    "    driver.switch_to.frame(driver.find_element(By.XPATH, '/html/body/div[1]/div[1]/div[2]/div[3]/div[2]/div/div/iframe'))\n",
    "    WebDriverWait(driver, 20).until(expected_conditions.element_to_be_clickable(driver.find_element(By.XPATH, '//*[@id=\"sf-binding-button-add\"]'))).click()\n",
    "    #write and select the project\n",
    "    WebDriverWait(driver, 20).until(expected_conditions.element_to_be_clickable(driver.find_element(By.XPATH, '//*[@id=\"s2id_sf-binding-dialog-add-form-select-jira-project\"]/a'))).click()\n",
    "    WebDriverWait(driver, 20).until(expected_conditions.element_to_be_clickable(driver.find_element(By.XPATH, '//*[@id=\"select2-drop\"]/div/input'))).send_keys(nameProjects)\n",
    "    #select the project\n",
    "    select_project = expected_conditions.presence_of_element_located((By.XPATH,'//*[@id=\"select2-drop\"]/ul/li/div'))\n",
    "    WebDriverWait(driver, 20).until(select_project).click()\n",
    "    #select the connection\n",
    "    select_connection = expected_conditions.presence_of_element_located((By.XPATH,'//*[@id=\"s2id_sf-binding-dialog-form-add-select-connection-id\"]/a'))\n",
    "    WebDriverWait(driver, 20).until(select_connection).click()\n",
    "    select_salesforce = expected_conditions.presence_of_element_located((By.XPATH,'/html/body/div[10]/ul/li/div'))\n",
    "    WebDriverWait(driver, 20).until(select_salesforce).click()\n",
    "    #click to add the project\n",
    "    WebDriverWait(driver, 20).until(expected_conditions.element_to_be_clickable(driver.find_element(By.XPATH,'/html/body/section/div/footer/div[1]/button[1]'))).click()\n",
    "    #click to CANCEL the project\n",
    "    time.sleep(5)\n",
    "    element_present = expected_conditions.presence_of_element_located((By.ID, 'sf-binding-default-mapping-button-cancel'))\n",
    "    WebDriverWait(driver, 20).until(element_present).click()\n",
    "    #id for mapping\n",
    "    time.sleep(2)\n",
    "    count = count + 1\n",
    "    mapping_button = expected_conditions.presence_of_element_located((By.ID,'sf-binding-table-{}-operation-configure-mapping'.format(count)))\n",
    "    WebDriverWait(driver, 20).until(mapping_button).click()\n",
    "    #WebDriverWait(driver, 20).until(expected_conditions.element_to_be_clickable(driver.find_element(By.ID,'sf-binding-table-{}-operation-configure-mapping'.format(count)))).click()\n",
    "    time.sleep(20)\n",
    "    #Again we have to swith to frame because it's a new page\n",
    "    driver.switch_to.frame(driver.find_element(By.XPATH, '/html/body/div[1]/div[1]/div[2]/div[3]/div[2]/div/div/iframe'))\n",
    "    try:\n",
    "        button = driver.find_element(By.XPATH,\"//input[@type='file']\")\n",
    "        button.send_keys(\"D://FileJSON/new_mapping.json\")\n",
    "    except:\n",
    "        print(nameProjects)\n",
    "    #return to the main page of bindings\n",
    "    driver.find_element(By.XPATH,'//*[@id=\"content\"]/div[1]/div/div[1]/div/a').click()\n",
    "    time.sleep(5)"
   ]
  },
  {
   "cell_type": "code",
   "execution_count": null,
   "id": "2163133f",
   "metadata": {},
   "outputs": [],
   "source": []
  }
 ],
 "metadata": {
  "kernelspec": {
   "display_name": "Python 3 (ipykernel)",
   "language": "python",
   "name": "python3"
  },
  "language_info": {
   "codemirror_mode": {
    "name": "ipython",
    "version": 3
   },
   "file_extension": ".py",
   "mimetype": "text/x-python",
   "name": "python",
   "nbconvert_exporter": "python",
   "pygments_lexer": "ipython3",
   "version": "3.9.12"
  }
 },
 "nbformat": 4,
 "nbformat_minor": 5
}
